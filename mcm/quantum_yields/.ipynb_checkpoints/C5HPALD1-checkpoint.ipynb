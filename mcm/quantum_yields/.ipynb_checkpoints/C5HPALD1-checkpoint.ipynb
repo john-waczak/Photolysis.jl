{
 "cells": [
  {
   "cell_type": "markdown",
   "id": "ec690261-34d3-4b48-b89c-5889ea452a8b",
   "metadata": {},
   "source": [
    "# $\\mathrm{C5HPALD1}$ (C5 hydroperoxy-aldehydes)"
   ]
  },
  {
   "cell_type": "code",
   "execution_count": 1,
   "id": "881c44ff-7f0c-416c-84de-eec6cd34755a",
   "metadata": {},
   "outputs": [
    {
     "name": "stderr",
     "output_type": "stream",
     "text": [
      "\u001b[32m\u001b[1m  Activating\u001b[22m\u001b[39m project at `~/gitrepos/activepure/Photolysis.jl/mcm`\n"
     ]
    }
   ],
   "source": [
    "using Pkg \n",
    "Pkg.activate(\"../\")"
   ]
  },
  {
   "cell_type": "code",
   "execution_count": 2,
   "id": "c047017e-90a5-49e2-b9d7-f069e0fa2753",
   "metadata": {},
   "outputs": [],
   "source": [
    "using Plots, MLPlotRecipes\n",
    "using HDF5\n",
    "using Tables, DataFrames, CSV\n",
    "using MLJ, MLJGaussianProcesses\n",
    "using StatsBase \n",
    "using KernelFunctions\n",
    "using ParameterHandling"
   ]
  },
  {
   "cell_type": "code",
   "execution_count": 3,
   "id": "5667a622-ad4a-4535-bb28-10952f1d0c3d",
   "metadata": {},
   "outputs": [
    {
     "data": {
      "text/plain": [
       "filter_outliers (generic function with 1 method)"
      ]
     },
     "execution_count": 3,
     "metadata": {},
     "output_type": "execute_result"
    }
   ],
   "source": [
    "include(\"./utils.jl\")"
   ]
  },
  {
   "cell_type": "code",
   "execution_count": 4,
   "id": "24bd0862-9cfc-4656-876d-68750e21bc53",
   "metadata": {},
   "outputs": [],
   "source": [
    "# load in spectrometer data\n",
    "hr4000_df = CSV.File(\"../hr4000_wavelengths.txt\") |> DataFrame ; "
   ]
  },
  {
   "cell_type": "markdown",
   "id": "55e97c27-9ad6-4992-abad-3b57f9770234",
   "metadata": {},
   "source": [
    "# Model Evaluation"
   ]
  },
  {
   "cell_type": "code",
   "execution_count": null,
   "id": "5b86569c-731e-436b-b76d-7bb0faca3054",
   "metadata": {},
   "outputs": [],
   "source": [
    "λ = hr4000_df.λ\n",
    "Φ = zeros(size(λ))\n",
    "\n",
    "idxs = [idx for idx ∈ 1:size(λ,1) if λ[idx] ≥ 250.0 && λ[idx] ≤ 395.0 ]\n",
    "Φ[idxs] .= 1.0\n",
    "\n",
    "\n",
    "p = plot(\n",
    "    λ,\n",
    "    Φ,\n",
    "    xlabel=\"λ [nm]\",\n",
    "    ylabel=\"Φ\",\n",
    "    alpha=0.7,\n",
    "    lw=3,\n",
    "    label=\"\",\n",
    "    title=\"Quantum Yield for C5HPALD1 → CH₃C(CHO)=CHCH₂O + OH\"\n",
    ")"
   ]
  },
  {
   "cell_type": "code",
   "execution_count": null,
   "id": "5a52decc-70ed-44ed-ba20-f9996e551a62",
   "metadata": {},
   "outputs": [],
   "source": []
  }
 ],
 "metadata": {
  "kernelspec": {
   "display_name": "Julia 1.8.5",
   "language": "julia",
   "name": "julia-1.8"
  },
  "language_info": {
   "file_extension": ".jl",
   "mimetype": "application/julia",
   "name": "julia",
   "version": "1.8.5"
  }
 },
 "nbformat": 4,
 "nbformat_minor": 5
}
