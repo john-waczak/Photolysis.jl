{
 "cells": [
  {
   "cell_type": "markdown",
   "id": "bbf56059-e97e-4c5b-811e-bc7ffda674b1",
   "metadata": {},
   "source": [
    "# $\\mathrm{C5HPALD1}$ (C5 hydroperoxy-aldehydes)"
   ]
  },
  {
   "cell_type": "markdown",
   "id": "395c271d-3849-4d62-93e8-cefd94acc12d",
   "metadata": {},
   "source": [
    "See [this link](http://chmlin9.leeds.ac.uk/MCMv3.3.1/parameters/photolysis/C5HPALD/C5HPALD_cs_qy_298.txt) for what is done in the MCM. Specifically, \n",
    "    \n",
    "\"Absorption cross-sections for C5 hydroperoxy-aldehydes (C5HPALD1 and C5HPALD1) formed from isoprene are assumed equivalent to those of methcrolein.\""
   ]
  },
  {
   "cell_type": "code",
   "execution_count": null,
   "id": "034e28e6-2e2d-440f-941c-cd5ba53ff75e",
   "metadata": {},
   "outputs": [],
   "source": []
  }
 ],
 "metadata": {
  "kernelspec": {
   "display_name": "Julia 1.8.5",
   "language": "julia",
   "name": "julia-1.8"
  },
  "language_info": {
   "file_extension": ".jl",
   "mimetype": "application/julia",
   "name": "julia",
   "version": "1.8.5"
  }
 },
 "nbformat": 4,
 "nbformat_minor": 5
}
